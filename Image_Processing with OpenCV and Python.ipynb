{
 "cells": [
  {
   "cell_type": "markdown",
   "id": "37aebf39",
   "metadata": {},
   "source": [
    "Convert Color image to gray Scale"
   ]
  },
  {
   "cell_type": "code",
   "execution_count": 2,
   "id": "890ceaa6",
   "metadata": {},
   "outputs": [],
   "source": [
    "import cv2\n",
    "src = 'VIT-Bhopal-Logo.png'\n",
    "input_image = cv2.imread(src)\n",
    "cv2.imshow('Original Image', input_image)\n",
    "cv2.waitKey(1)\n",
    "cv2.destroyAllWindows()\n",
    "if input_image is None:\n",
    "  print('Could not open Image: ', input_image)\n",
    "  exit(0)\n",
    "\n",
    "#Grayscale version of the input:\n",
    "gray = cv2.cvtColor(input_image, cv2.COLOR_BGR2GRAY)\n",
    "\n",
    "#Display grayscale version\n",
    "cv2.imshow('Grayscale Image', gray)\n",
    "\n",
    "cv2.waitKey(1)\n",
    "cv2.destroyAllWindows()"
   ]
  },
  {
   "cell_type": "markdown",
   "id": "e9255c5d",
   "metadata": {},
   "source": [
    "Seperating BGR and Combining BGR Channels"
   ]
  },
  {
   "cell_type": "code",
   "execution_count": 7,
   "id": "fb9afa31",
   "metadata": {},
   "outputs": [],
   "source": [
    "import cv2\n",
    "\n",
    "src = 'VIT-Bhopal-Logo.png'\n",
    "input_image = cv2.imread(src)\n",
    "if input_image is None:\n",
    "  print('Could not open Image: ', input_image)\n",
    "  exit(0)\n",
    "\n",
    "#Splitting image into RGB Channels:\n",
    "blue, green, red = cv2.split(input_image)\n",
    "cv2.imshow('Blue - Gray Scale', blue)\n",
    "cv2.waitKey(0)\n",
    "cv2.destroyAllWindows()\n",
    "cv2.imshow('Green - Gray Scale', green)\n",
    "cv2.waitKey(0)\n",
    "cv2.destroyAllWindows()\n",
    "cv2.imshow('Red - Gray Scale', red)\n",
    "cv2.waitKey(0)\n",
    "cv2.destroyAllWindows()\n"
   ]
  },
  {
   "cell_type": "code",
   "execution_count": 10,
   "id": "48425554",
   "metadata": {
    "scrolled": true
   },
   "outputs": [
    {
     "data": {
      "text/plain": [
       "(array([[[  0,   0, 254],\n",
       "         [  0,   0, 254],\n",
       "         [  0,   0, 254],\n",
       "         ...,\n",
       "         [  0,   0, 254],\n",
       "         [  0,   0, 254],\n",
       "         [  0,   0, 254]],\n",
       " \n",
       "        [[  0,   0, 254],\n",
       "         [  0,   0, 254],\n",
       "         [  0,   0, 254],\n",
       "         ...,\n",
       "         [  0,   0, 254],\n",
       "         [  0,   0, 254],\n",
       "         [  0,   0, 254]],\n",
       " \n",
       "        [[  0,   0, 254],\n",
       "         [  0,   0, 254],\n",
       "         [  0,   0, 254],\n",
       "         ...,\n",
       "         [  0,   0, 254],\n",
       "         [  0,   0, 254],\n",
       "         [  0,   0, 254]],\n",
       " \n",
       "        ...,\n",
       " \n",
       "        [[  0,   0, 254],\n",
       "         [  0,   0, 254],\n",
       "         [  0,   0, 254],\n",
       "         ...,\n",
       "         [  0,   0, 254],\n",
       "         [  0,   0, 254],\n",
       "         [  0,   0, 254]],\n",
       " \n",
       "        [[  0,   0, 254],\n",
       "         [  0,   0, 254],\n",
       "         [  0,   0, 254],\n",
       "         ...,\n",
       "         [  0,   0, 254],\n",
       "         [  0,   0, 254],\n",
       "         [  0,   0, 254]],\n",
       " \n",
       "        [[  0,   0, 254],\n",
       "         [  0,   0, 254],\n",
       "         [  0,   0, 254],\n",
       "         ...,\n",
       "         [  0,   0, 254],\n",
       "         [  0,   0, 254],\n",
       "         [  0,   0, 254]]], dtype=uint8),)"
      ]
     },
     "execution_count": 10,
     "metadata": {},
     "output_type": "execute_result"
    }
   ],
   "source": [
    "#Creating a dummy 3D array\n",
    "\n",
    "import numpy as np\n",
    "blue_channel = np.zeros(input_image.shape, input_image.dtype)\n",
    "green_channel = np.zeros(input_image.shape, input_image.dtype)\n",
    "red_channel = np.zeros(input_image.shape, input_image.dtype)\n",
    "\n",
    "#Matching each color channel to a 3D dimension:\n",
    "    #Blue Rendering : [blue; 0; 0]\n",
    "    #Green Rendering: [0; green; 0]\n",
    "    #Red Rendering  : [0; 0; red]\n",
    "\n",
    "cv2.mixChannels([blue, green, red], [blue_channel], [0,0])\n",
    "cv2.mixChannels([blue, green, red], [green_channel], [1,1])\n",
    "cv2.mixChannels([blue, green, red], [red_channel], [2,2])\n"
   ]
  },
  {
   "cell_type": "markdown",
   "id": "9ef87852",
   "metadata": {},
   "source": [
    "Displaying the three obtained image"
   ]
  },
  {
   "cell_type": "code",
   "execution_count": 11,
   "id": "d1bac7c7",
   "metadata": {},
   "outputs": [],
   "source": [
    "cv2.imshow('Blue Channel', blue_channel)\n",
    "cv2.waitKey(0)\n",
    "cv2.destroyAllWindows()\n",
    "cv2.imshow('Green Channel', green_channel)\n",
    "cv2.waitKey(0)\n",
    "cv2.destroyAllWindows()\n",
    "cv2.imshow('Red Channel', red_channel)\n",
    "cv2.waitKey(0)\n",
    "cv2.destroyAllWindows()"
   ]
  },
  {
   "cell_type": "markdown",
   "id": "1ad6cbae",
   "metadata": {},
   "source": [
    "Blurring an Image"
   ]
  },
  {
   "cell_type": "code",
   "execution_count": 17,
   "id": "cedec99d",
   "metadata": {},
   "outputs": [],
   "source": [
    "import cv2\n",
    "img=cv2.imread('VIT-Bhopal-Logo.png')\n",
    "cv2.imshow('Original Image', img)\n",
    "cv2.waitKey(0)\n",
    "cv2.destroyAllWindows()\n",
    "\n",
    "blur_image = cv2.medianBlur(img, 13)\n",
    "cv2.imshow('blur image', blur_image)\n",
    "cv2.waitKey(0)\n",
    "cv2.destroyAllWindows()"
   ]
  }
 ],
 "metadata": {
  "kernelspec": {
   "display_name": "Python 3 (ipykernel)",
   "language": "python",
   "name": "python3"
  },
  "language_info": {
   "codemirror_mode": {
    "name": "ipython",
    "version": 3
   },
   "file_extension": ".py",
   "mimetype": "text/x-python",
   "name": "python",
   "nbconvert_exporter": "python",
   "pygments_lexer": "ipython3",
   "version": "3.9.13"
  }
 },
 "nbformat": 4,
 "nbformat_minor": 5
}
